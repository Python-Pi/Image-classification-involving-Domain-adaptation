{
 "cells": [
  {
   "cell_type": "code",
   "execution_count": 39,
   "metadata": {},
   "outputs": [],
   "source": [
    "import numpy as np\n",
    "import copy\n",
    "import joblib\n",
    "import torch\n",
    "from tensorflow.keras.applications import ResNet152\n",
    "from keras.applications.resnet50 import preprocess_input\n",
    "from tensorflow.keras.preprocessing import image\n",
    "from scipy.spatial.distance import cdist\n"
   ]
  },
  {
   "cell_type": "code",
   "execution_count": 40,
   "metadata": {},
   "outputs": [
    {
     "name": "stderr",
     "output_type": "stream",
     "text": [
      "/var/folders/15/rhh2dgys0n75gk26z6nrx13c0000gn/T/ipykernel_6690/3458883194.py:9: FutureWarning: You are using `torch.load` with `weights_only=False` (the current default value), which uses the default pickle module implicitly. It is possible to construct malicious pickle data which will execute arbitrary code during unpickling (See https://github.com/pytorch/pytorch/blob/main/SECURITY.md#untrusted-models for more details). In a future release, the default value for `weights_only` will be flipped to `True`. This limits the functions that could be executed during unpickling. Arbitrary objects will no longer be allowed to be loaded via this mode unless they are explicitly allowlisted by the user via `torch.serialization.add_safe_globals`. We recommend you start setting `weights_only=True` for any use case where you don't have full control of the loaded file. Please open an issue on GitHub for any issues related to this experimental feature.\n",
      "  t = torch.load('./dataset/part_two_dataset/train_data/' + str(i+1) + '_train_data.tar.pth')\n",
      "/var/folders/15/rhh2dgys0n75gk26z6nrx13c0000gn/T/ipykernel_6690/3458883194.py:13: FutureWarning: You are using `torch.load` with `weights_only=False` (the current default value), which uses the default pickle module implicitly. It is possible to construct malicious pickle data which will execute arbitrary code during unpickling (See https://github.com/pytorch/pytorch/blob/main/SECURITY.md#untrusted-models for more details). In a future release, the default value for `weights_only` will be flipped to `True`. This limits the functions that could be executed during unpickling. Arbitrary objects will no longer be allowed to be loaded via this mode unless they are explicitly allowlisted by the user via `torch.serialization.add_safe_globals`. We recommend you start setting `weights_only=True` for any use case where you don't have full control of the loaded file. Please open an issue on GitHub for any issues related to this experimental feature.\n",
      "  t = torch.load('./dataset/part_two_dataset/eval_data/' + str(i+1) + '_eval_data.tar.pth')\n"
     ]
    }
   ],
   "source": [
    "train_data = []\n",
    "train_labels = []\n",
    "eval_data = []\n",
    "eval_labels = []\n",
    "\n",
    "predicted_labels = {}\n",
    "\n",
    "for i in range(10):\n",
    "  t = torch.load('./dataset/part_two_dataset/train_data/' + str(i+1) + '_train_data.tar.pth')\n",
    "  train_data.append(t['data'])\n",
    "\n",
    "for i in range(10):\n",
    "  t = torch.load('./dataset/part_two_dataset/eval_data/' + str(i+1) + '_eval_data.tar.pth')\n",
    "  eval_data.append(t['data'])\n",
    "  eval_labels.append(t['targets'])"
   ]
  },
  {
   "cell_type": "code",
   "execution_count": 6,
   "metadata": {},
   "outputs": [
    {
     "name": "stderr",
     "output_type": "stream",
     "text": [
      "2024-11-26 16:27:55.435708: I metal_plugin/src/device/metal_device.cc:1154] Metal device set to: Apple M1 Pro\n",
      "2024-11-26 16:27:55.435768: I metal_plugin/src/device/metal_device.cc:296] systemMemory: 16.00 GB\n",
      "2024-11-26 16:27:55.435781: I metal_plugin/src/device/metal_device.cc:313] maxCacheSize: 5.33 GB\n",
      "2024-11-26 16:27:55.435824: I tensorflow/core/common_runtime/pluggable_device/pluggable_device_factory.cc:305] Could not identify NUMA node of platform GPU ID 0, defaulting to 0. Your kernel may not have been built with NUMA support.\n",
      "2024-11-26 16:27:55.435848: I tensorflow/core/common_runtime/pluggable_device/pluggable_device_factory.cc:271] Created TensorFlow device (/job:localhost/replica:0/task:0/device:GPU:0 with 0 MB memory) -> physical PluggableDevice (device: 0, name: METAL, pci bus id: <undefined>)\n",
      "2024-11-26 16:28:04.045961: I tensorflow/core/grappler/optimizers/custom_graph_optimizer_registry.cc:117] Plugin optimizer for device_type GPU is enabled.\n"
     ]
    },
    {
     "name": "stdout",
     "output_type": "stream",
     "text": [
      "\u001b[1m79/79\u001b[0m \u001b[32m━━━━━━━━━━━━━━━━━━━━\u001b[0m\u001b[37m\u001b[0m \u001b[1m42s\u001b[0m 448ms/step\n",
      "\u001b[1m79/79\u001b[0m \u001b[32m━━━━━━━━━━━━━━━━━━━━\u001b[0m\u001b[37m\u001b[0m \u001b[1m28s\u001b[0m 357ms/step\n",
      "\u001b[1m79/79\u001b[0m \u001b[32m━━━━━━━━━━━━━━━━━━━━\u001b[0m\u001b[37m\u001b[0m \u001b[1m29s\u001b[0m 360ms/step\n",
      "\u001b[1m79/79\u001b[0m \u001b[32m━━━━━━━━━━━━━━━━━━━━\u001b[0m\u001b[37m\u001b[0m \u001b[1m28s\u001b[0m 355ms/step\n",
      "\u001b[1m79/79\u001b[0m \u001b[32m━━━━━━━━━━━━━━━━━━━━\u001b[0m\u001b[37m\u001b[0m \u001b[1m28s\u001b[0m 356ms/step\n",
      "\u001b[1m79/79\u001b[0m \u001b[32m━━━━━━━━━━━━━━━━━━━━\u001b[0m\u001b[37m\u001b[0m \u001b[1m29s\u001b[0m 360ms/step\n",
      "\u001b[1m79/79\u001b[0m \u001b[32m━━━━━━━━━━━━━━━━━━━━\u001b[0m\u001b[37m\u001b[0m \u001b[1m28s\u001b[0m 354ms/step\n",
      "\u001b[1m79/79\u001b[0m \u001b[32m━━━━━━━━━━━━━━━━━━━━\u001b[0m\u001b[37m\u001b[0m \u001b[1m29s\u001b[0m 358ms/step\n",
      "\u001b[1m79/79\u001b[0m \u001b[32m━━━━━━━━━━━━━━━━━━━━\u001b[0m\u001b[37m\u001b[0m \u001b[1m29s\u001b[0m 359ms/step\n",
      "\u001b[1m79/79\u001b[0m \u001b[32m━━━━━━━━━━━━━━━━━━━━\u001b[0m\u001b[37m\u001b[0m \u001b[1m29s\u001b[0m 358ms/step\n",
      "\u001b[1m79/79\u001b[0m \u001b[32m━━━━━━━━━━━━━━━━━━━━\u001b[0m\u001b[37m\u001b[0m \u001b[1m29s\u001b[0m 365ms/step\n",
      "\u001b[1m79/79\u001b[0m \u001b[32m━━━━━━━━━━━━━━━━━━━━\u001b[0m\u001b[37m\u001b[0m \u001b[1m29s\u001b[0m 363ms/step\n",
      "\u001b[1m79/79\u001b[0m \u001b[32m━━━━━━━━━━━━━━━━━━━━\u001b[0m\u001b[37m\u001b[0m \u001b[1m29s\u001b[0m 359ms/step\n",
      "\u001b[1m79/79\u001b[0m \u001b[32m━━━━━━━━━━━━━━━━━━━━\u001b[0m\u001b[37m\u001b[0m \u001b[1m29s\u001b[0m 360ms/step\n",
      "\u001b[1m79/79\u001b[0m \u001b[32m━━━━━━━━━━━━━━━━━━━━\u001b[0m\u001b[37m\u001b[0m \u001b[1m29s\u001b[0m 357ms/step\n",
      "\u001b[1m79/79\u001b[0m \u001b[32m━━━━━━━━━━━━━━━━━━━━\u001b[0m\u001b[37m\u001b[0m \u001b[1m29s\u001b[0m 359ms/step\n",
      "\u001b[1m79/79\u001b[0m \u001b[32m━━━━━━━━━━━━━━━━━━━━\u001b[0m\u001b[37m\u001b[0m \u001b[1m29s\u001b[0m 358ms/step\n",
      "\u001b[1m79/79\u001b[0m \u001b[32m━━━━━━━━━━━━━━━━━━━━\u001b[0m\u001b[37m\u001b[0m \u001b[1m28s\u001b[0m 355ms/step\n",
      "\u001b[1m79/79\u001b[0m \u001b[32m━━━━━━━━━━━━━━━━━━━━\u001b[0m\u001b[37m\u001b[0m \u001b[1m28s\u001b[0m 355ms/step\n",
      "\u001b[1m79/79\u001b[0m \u001b[32m━━━━━━━━━━━━━━━━━━━━\u001b[0m\u001b[37m\u001b[0m \u001b[1m28s\u001b[0m 356ms/step\n"
     ]
    }
   ],
   "source": [
    "train_data_extracted = []\n",
    "eval_data_extracted = []\n",
    "model = ResNet152(weights='imagenet', include_top=False, pooling='avg')\n",
    "\n",
    "def process_and_extract_features(data, model):\n",
    "    extracted_features = []\n",
    "    for X in data:\n",
    "        X_resized = np.array([image.img_to_array(image.array_to_img(img, scale=False).resize((224, 224))) for img in X])\n",
    "        X_preprocessed = preprocess_input(X_resized)\n",
    "        features = model.predict(X_preprocessed, batch_size=32)\n",
    "        extracted_features.append(features)\n",
    "    return extracted_features\n",
    "\n",
    "\n",
    "train_data_extracted = process_and_extract_features(train_data, model)\n",
    "eval_data_extracted = process_and_extract_features(eval_data, model)\n"
   ]
  },
  {
   "cell_type": "code",
   "execution_count": 7,
   "metadata": {},
   "outputs": [
    {
     "name": "stdout",
     "output_type": "stream",
     "text": [
      "Train data shape: (2500, 32, 32, 3)\n",
      "Extracted features shape: (2500, 2048)\n"
     ]
    }
   ],
   "source": [
    "print(f\"Train data shape: {train_data[0].shape}\")\n",
    "print(f\"Extracted features shape: {train_data_extracted[0].shape}\")"
   ]
  },
  {
   "cell_type": "code",
   "execution_count": 8,
   "metadata": {},
   "outputs": [],
   "source": [
    "# Save the arrays\n",
    "np.save('./features/Part-2/train_data_extracted.npy', train_data_extracted)\n",
    "np.save('./features/Part-2/eval_data_extracted.npy', eval_data_extracted)\n"
   ]
  },
  {
   "cell_type": "markdown",
   "metadata": {},
   "source": [
    "## Run from here if features are already extracted"
   ]
  },
  {
   "cell_type": "code",
   "execution_count": 41,
   "metadata": {},
   "outputs": [
    {
     "name": "stdout",
     "output_type": "stream",
     "text": [
      "Length of Datastructure: 10\n",
      "Extracted features shape: (2500, 2048)\n"
     ]
    }
   ],
   "source": [
    "train_data_extracted = np.load('./features/Part-2/train_data_extracted.npy', allow_pickle=True)\n",
    "eval_data_extracted = np.load('./features/Part-2/eval_data_extracted.npy', allow_pickle=True)\n",
    "\n",
    "print(f\"Length of Datastructure: {len(train_data_extracted)}\")\n",
    "print(f\"Extracted features shape: {train_data_extracted[0].shape}\")"
   ]
  },
  {
   "cell_type": "code",
   "execution_count": 42,
   "metadata": {},
   "outputs": [],
   "source": [
    "X_train = train_data_extracted\n",
    "y_train = train_labels\n",
    "X_test = eval_data_extracted"
   ]
  },
  {
   "cell_type": "code",
   "execution_count": 43,
   "metadata": {},
   "outputs": [],
   "source": [
    "class LwPClassifier:\n",
    "    def __init__(self, metric='euclidean'):\n",
    "        self.metric = metric\n",
    "        self.class_prototypes = {}\n",
    "\n",
    "    def fit(self, X, y, weights=None, alpha=0.01):\n",
    "        \"\"\"Compute prototypes (mean vectors) for each class, with optional weighting and regularization.\"\"\"\n",
    "        if len(X.shape) > 2:\n",
    "            X = X.reshape(X.shape[0], -1)\n",
    "        \n",
    "        self.classes_ = np.unique(y)\n",
    "        if weights is None:\n",
    "            weights = np.ones_like(y, dtype=float)\n",
    "\n",
    "        self.class_prototypes = {\n",
    "            cls: np.average(X[y == cls], axis=0, weights=weights[y == cls]) - alpha * np.mean(X, axis=0) \n",
    "            for cls in self.classes_\n",
    "        }\n",
    "\n",
    "    def predict(self, X):\n",
    "        \"\"\"Predict class for each sample in X.\"\"\"\n",
    "        if len(X.shape) > 2:\n",
    "            X = X.reshape(X.shape[0], -1)\n",
    "        prototypes = np.array([self.class_prototypes[cls] for cls in self.classes_])\n",
    "        distances = cdist(X, prototypes, metric=self.metric)\n",
    "        closest_prototype_idx = distances.argmin(axis=1)\n",
    "        return self.classes_[closest_prototype_idx]\n",
    "\n",
    "    def retrain(self, X, y, momentum=0.9):\n",
    "        \"\"\"Update prototypes with new data using adaptive learning and momentum.\"\"\"\n",
    "        if len(X.shape) > 2:\n",
    "            X = X.reshape(X.shape[0], -1)\n",
    "        \n",
    "        for cls in np.unique(y):\n",
    "            if cls in self.class_prototypes:\n",
    "                old_prototype = self.class_prototypes[cls]\n",
    "                new_prototype = X[y == cls].mean(axis=0)\n",
    "                self.class_prototypes[cls] = momentum * old_prototype + (1 - momentum) * new_prototype\n",
    "            else:\n",
    "                self.class_prototypes[cls] = X[y == cls].mean(axis=0)\n",
    "    \n",
    "    def retrain_with_unlabeled_data(self, X, threshold=0.8):\n",
    "        \"\"\"Adapt model to unlabeled data by generating pseudo-labels based on current prototypes.\"\"\"\n",
    "        if len(X.shape) > 2:\n",
    "            X = X.reshape(X.shape[0], -1)\n",
    "        \n",
    "        distances = cdist(X, np.array(list(self.class_prototypes.values())), metric=self.metric)\n",
    "        predicted_labels = np.argmin(distances, axis=1)\n",
    "        predicted_confidences = np.min(distances, axis=1)\n",
    "        \n",
    "        confident_indices = predicted_confidences < threshold\n",
    "        pseudo_labels = predicted_labels[confident_indices]\n",
    "        X_confident = X[confident_indices]\n",
    "        \n",
    "        self.retrain(X_confident, pseudo_labels)\n",
    "\n",
    "    def score(self, X, y):\n",
    "        \"\"\"Calculate accuracy of the model.\"\"\"\n",
    "        predictions = self.predict(X)\n",
    "        return np.mean(predictions == y)\n"
   ]
  },
  {
   "cell_type": "code",
   "execution_count": 44,
   "metadata": {},
   "outputs": [
    {
     "name": "stdout",
     "output_type": "stream",
     "text": [
      "[3 8 8 ... 8 3 2]\n"
     ]
    }
   ],
   "source": [
    "f10 = joblib.load('./models/Part-1/f10.joblib')\n",
    "f10.retrain_with_unlabeled_data(X_train[0])\n",
    "\n",
    "predicted_labels['D11'] = f10.predict(X_train[0])\n",
    "print(predicted_labels['D11'])"
   ]
  },
  {
   "cell_type": "code",
   "execution_count": 45,
   "metadata": {},
   "outputs": [
    {
     "name": "stdout",
     "output_type": "stream",
     "text": [
      "[8 8 8 ... 8 3 3]\n"
     ]
    }
   ],
   "source": [
    "f11 = copy.deepcopy(f10)\n",
    "f11.retrain_with_unlabeled_data(X_train[0])\n",
    "f11.retrain(X_train[0], predicted_labels['D11'])\n",
    "\n",
    "predicted_labels['D12'] = f11.predict(X_train[1])\n",
    "print(predicted_labels['D12'])"
   ]
  },
  {
   "cell_type": "code",
   "execution_count": 46,
   "metadata": {},
   "outputs": [
    {
     "name": "stdout",
     "output_type": "stream",
     "text": [
      "[3 8 8 ... 8 3 6]\n"
     ]
    }
   ],
   "source": [
    "f12 = copy.deepcopy(f11)\n",
    "f12.retrain_with_unlabeled_data(X_train[1])\n",
    "f12.retrain(X_train[1], predicted_labels['D12'])\n",
    "\n",
    "predicted_labels['D13'] = f12.predict(X_train[2])\n",
    "print(predicted_labels['D13'])"
   ]
  },
  {
   "cell_type": "code",
   "execution_count": 47,
   "metadata": {},
   "outputs": [
    {
     "name": "stdout",
     "output_type": "stream",
     "text": [
      "[3 8 8 ... 8 3 2]\n"
     ]
    }
   ],
   "source": [
    "f13 = copy.deepcopy(f12)\n",
    "f13.retrain_with_unlabeled_data(X_train[2])\n",
    "f13.retrain(X_train[2], predicted_labels['D13'])\n",
    "\n",
    "predicted_labels['D14'] = f13.predict(X_train[3])\n",
    "print(predicted_labels['D14'])"
   ]
  },
  {
   "cell_type": "code",
   "execution_count": 48,
   "metadata": {},
   "outputs": [
    {
     "name": "stdout",
     "output_type": "stream",
     "text": [
      "[3 8 8 ... 8 3 2]\n"
     ]
    }
   ],
   "source": [
    "f14 = copy.deepcopy(f13)\n",
    "f14.retrain_with_unlabeled_data(X_train[3])\n",
    "f14.retrain(X_train[3], predicted_labels['D14'])\n",
    "\n",
    "predicted_labels['D15'] = f14.predict(X_train[4])\n",
    "print(predicted_labels['D15'])"
   ]
  },
  {
   "cell_type": "code",
   "execution_count": 49,
   "metadata": {},
   "outputs": [
    {
     "name": "stdout",
     "output_type": "stream",
     "text": [
      "[3 8 8 ... 8 3 6]\n"
     ]
    }
   ],
   "source": [
    "f15 = copy.deepcopy(f14)\n",
    "f15.retrain_with_unlabeled_data(X_train[4])\n",
    "f15.retrain(X_train[4], predicted_labels['D15'])\n",
    "\n",
    "predicted_labels['D16'] = f15.predict(X_train[5])\n",
    "print(predicted_labels['D16'])"
   ]
  },
  {
   "cell_type": "code",
   "execution_count": 50,
   "metadata": {},
   "outputs": [
    {
     "name": "stdout",
     "output_type": "stream",
     "text": [
      "[3 8 8 ... 8 3 2]\n"
     ]
    }
   ],
   "source": [
    "f16 = copy.deepcopy(f15)\n",
    "f16.retrain_with_unlabeled_data(X_train[5])\n",
    "f16.retrain(X_train[5], predicted_labels['D16'])\n",
    "\n",
    "predicted_labels['D17'] = f16.predict(X_train[6])\n",
    "print(predicted_labels['D17'])"
   ]
  },
  {
   "cell_type": "code",
   "execution_count": 51,
   "metadata": {},
   "outputs": [
    {
     "name": "stdout",
     "output_type": "stream",
     "text": [
      "[6 8 8 ... 8 3 0]\n"
     ]
    }
   ],
   "source": [
    "f17 = copy.deepcopy(f16)\n",
    "f17.retrain_with_unlabeled_data(X_train[6])\n",
    "f17.retrain(X_train[6], predicted_labels['D17'])\n",
    "\n",
    "predicted_labels['D18'] = f17.predict(X_train[7])\n",
    "print(predicted_labels['D18'])"
   ]
  },
  {
   "cell_type": "code",
   "execution_count": 52,
   "metadata": {},
   "outputs": [
    {
     "name": "stdout",
     "output_type": "stream",
     "text": [
      "[3 8 8 ... 8 3 9]\n"
     ]
    }
   ],
   "source": [
    "f18 = copy.deepcopy(f17)\n",
    "f18.retrain_with_unlabeled_data(X_train[7])\n",
    "f18.retrain(X_train[7], predicted_labels['D18'])\n",
    "\n",
    "predicted_labels['D19'] = f18.predict(X_train[8])\n",
    "print(predicted_labels['D19'])"
   ]
  },
  {
   "cell_type": "code",
   "execution_count": 53,
   "metadata": {},
   "outputs": [
    {
     "name": "stdout",
     "output_type": "stream",
     "text": [
      "[3 1 8 ... 8 3 2]\n"
     ]
    }
   ],
   "source": [
    "f19 = copy.deepcopy(f18)\n",
    "f19.retrain_with_unlabeled_data(X_train[8])\n",
    "f19.retrain(X_train[8], predicted_labels['D19'])\n",
    "\n",
    "predicted_labels['D20'] = f19.predict(X_train[9])\n",
    "print(predicted_labels['D20'])"
   ]
  },
  {
   "cell_type": "code",
   "execution_count": 54,
   "metadata": {},
   "outputs": [],
   "source": [
    "f20 = copy.deepcopy(f19)\n",
    "f20.retrain_with_unlabeled_data(X_train[9])\n",
    "f20.retrain(X_train[9], predicted_labels['D20'])"
   ]
  },
  {
   "cell_type": "markdown",
   "metadata": {},
   "source": [
    "# Testing"
   ]
  },
  {
   "cell_type": "code",
   "execution_count": 55,
   "metadata": {},
   "outputs": [],
   "source": [
    "models = [f11, f12, f13, f14, f15, f16, f17, f18, f19, f20]\n",
    "outputs_partial = [[] for _ in range(10)]"
   ]
  },
  {
   "cell_type": "code",
   "execution_count": 56,
   "metadata": {},
   "outputs": [],
   "source": [
    "accuracies_partial = [[] for _ in range(10)]\n",
    "\n",
    "for i in range(1, 10+1):\n",
    "    for j in range(1, i+1):\n",
    "        model_id = i-1\n",
    "        data_id = j-1\n",
    "        score = models[model_id].score(eval_data_extracted[data_id], eval_labels[data_id])\n",
    "        accuracies_partial[model_id].append(score)"
   ]
  },
  {
   "cell_type": "code",
   "execution_count": 57,
   "metadata": {},
   "outputs": [
    {
     "name": "stdout",
     "output_type": "stream",
     "text": [
      "[0.7028]\n",
      "[0.7004, 0.5244]\n",
      "[0.6972, 0.5256, 0.7376]\n",
      "[0.6932, 0.5204, 0.736, 0.806]\n",
      "[0.692, 0.5188, 0.7324, 0.8044, 0.832]\n",
      "[0.688, 0.5192, 0.7336, 0.7992, 0.8316, 0.7144]\n",
      "[0.6908, 0.5152, 0.7352, 0.798, 0.8284, 0.7128, 0.776]\n",
      "[0.6848, 0.5148, 0.7324, 0.7968, 0.8232, 0.7096, 0.772, 0.7072]\n",
      "[0.6804, 0.5032, 0.7276, 0.7924, 0.82, 0.7032, 0.7648, 0.704, 0.5532]\n",
      "[0.6792, 0.5012, 0.7272, 0.7936, 0.8192, 0.7012, 0.7632, 0.7008, 0.5508, 0.8024]\n"
     ]
    }
   ],
   "source": [
    "for i in range(10):\n",
    "    print(accuracies_partial[i])"
   ]
  },
  {
   "cell_type": "markdown",
   "metadata": {},
   "source": [
    "## Saving models"
   ]
  },
  {
   "cell_type": "code",
   "execution_count": 60,
   "metadata": {},
   "outputs": [],
   "source": [
    "for i, model in enumerate(models, start=1):\n",
    "    filename = f'./models/Part-2/f{i+10}.joblib'\n",
    "    joblib.dump(model, filename)"
   ]
  },
  {
   "cell_type": "code",
   "execution_count": null,
   "metadata": {},
   "outputs": [],
   "source": []
  },
  {
   "cell_type": "code",
   "execution_count": null,
   "metadata": {},
   "outputs": [],
   "source": []
  }
 ],
 "metadata": {
  "kernelspec": {
   "display_name": "ml",
   "language": "python",
   "name": "python3"
  },
  "language_info": {
   "codemirror_mode": {
    "name": "ipython",
    "version": 3
   },
   "file_extension": ".py",
   "mimetype": "text/x-python",
   "name": "python",
   "nbconvert_exporter": "python",
   "pygments_lexer": "ipython3",
   "version": "3.10.15"
  }
 },
 "nbformat": 4,
 "nbformat_minor": 2
}
