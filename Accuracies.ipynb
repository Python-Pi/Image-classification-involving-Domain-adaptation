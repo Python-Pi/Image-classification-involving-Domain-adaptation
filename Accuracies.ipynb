{
 "cells": [
  {
   "cell_type": "code",
   "execution_count": 1,
   "metadata": {},
   "outputs": [],
   "source": [
    "import numpy as np\n",
    "import torch\n",
    "import joblib\n",
    "from scipy.spatial.distance import cdist\n"
   ]
  },
  {
   "cell_type": "code",
   "execution_count": 2,
   "metadata": {},
   "outputs": [
    {
     "name": "stderr",
     "output_type": "stream",
     "text": [
      "/var/folders/15/rhh2dgys0n75gk26z6nrx13c0000gn/T/ipykernel_18365/4124738520.py:4: FutureWarning: You are using `torch.load` with `weights_only=False` (the current default value), which uses the default pickle module implicitly. It is possible to construct malicious pickle data which will execute arbitrary code during unpickling (See https://github.com/pytorch/pytorch/blob/main/SECURITY.md#untrusted-models for more details). In a future release, the default value for `weights_only` will be flipped to `True`. This limits the functions that could be executed during unpickling. Arbitrary objects will no longer be allowed to be loaded via this mode unless they are explicitly allowlisted by the user via `torch.serialization.add_safe_globals`. We recommend you start setting `weights_only=True` for any use case where you don't have full control of the loaded file. Please open an issue on GitHub for any issues related to this experimental feature.\n",
      "  t = torch.load('./dataset/part_one_dataset/eval_data/' + str(i+1) + '_eval_data.tar.pth')\n",
      "/var/folders/15/rhh2dgys0n75gk26z6nrx13c0000gn/T/ipykernel_18365/4124738520.py:8: FutureWarning: You are using `torch.load` with `weights_only=False` (the current default value), which uses the default pickle module implicitly. It is possible to construct malicious pickle data which will execute arbitrary code during unpickling (See https://github.com/pytorch/pytorch/blob/main/SECURITY.md#untrusted-models for more details). In a future release, the default value for `weights_only` will be flipped to `True`. This limits the functions that could be executed during unpickling. Arbitrary objects will no longer be allowed to be loaded via this mode unless they are explicitly allowlisted by the user via `torch.serialization.add_safe_globals`. We recommend you start setting `weights_only=True` for any use case where you don't have full control of the loaded file. Please open an issue on GitHub for any issues related to this experimental feature.\n",
      "  t = torch.load('./dataset/part_two_dataset/eval_data/' + str(i+1) + '_eval_data.tar.pth')\n"
     ]
    }
   ],
   "source": [
    "eval_labels = []\n",
    "\n",
    "for i in range(10):\n",
    "  t = torch.load('./dataset/part_one_dataset/eval_data/' + str(i+1) + '_eval_data.tar.pth')\n",
    "  eval_labels.append(t['targets'])\n",
    "\n",
    "for i in range(10):\n",
    "    t = torch.load('./dataset/part_two_dataset/eval_data/' + str(i+1) + '_eval_data.tar.pth')\n",
    "    eval_labels.append(t['targets'])"
   ]
  },
  {
   "cell_type": "code",
   "execution_count": 3,
   "metadata": {},
   "outputs": [],
   "source": [
    "eval_data_extracted_1 = np.load('./features/Part-1/eval_data_extracted.npy', allow_pickle=True)\n",
    "eval_data_extracted_2 = np.load('./features/Part-2/eval_data_extracted.npy', allow_pickle=True)"
   ]
  },
  {
   "cell_type": "code",
   "execution_count": 4,
   "metadata": {},
   "outputs": [],
   "source": [
    "eval_data = np.concatenate((eval_data_extracted_1, eval_data_extracted_2), axis=0)"
   ]
  },
  {
   "cell_type": "code",
   "execution_count": 5,
   "metadata": {},
   "outputs": [],
   "source": [
    "class LwPClassifier:\n",
    "    def __init__(self, metric='euclidean'):\n",
    "        self.metric = metric\n",
    "        self.class_prototypes = {}\n",
    "\n",
    "    def fit(self, X, y, weights=None, alpha=0.01):\n",
    "        \"\"\"Compute prototypes (mean vectors) for each class, with optional weighting and regularization.\"\"\"\n",
    "        if len(X.shape) > 2:\n",
    "            X = X.reshape(X.shape[0], -1)\n",
    "        \n",
    "        self.classes_ = np.unique(y)\n",
    "        if weights is None:\n",
    "            weights = np.ones_like(y, dtype=float)\n",
    "\n",
    "        self.class_prototypes = {\n",
    "            cls: np.average(X[y == cls], axis=0, weights=weights[y == cls]) - alpha * np.mean(X, axis=0) \n",
    "            for cls in self.classes_\n",
    "        }\n",
    "\n",
    "    def predict(self, X):\n",
    "        \"\"\"Predict class for each sample in X.\"\"\"\n",
    "        if len(X.shape) > 2:\n",
    "            X = X.reshape(X.shape[0], -1)\n",
    "        prototypes = np.array([self.class_prototypes[cls] for cls in self.classes_])\n",
    "        distances = cdist(X, prototypes, metric=self.metric)\n",
    "        closest_prototype_idx = distances.argmin(axis=1)\n",
    "        return self.classes_[closest_prototype_idx]\n",
    "\n",
    "    def retrain(self, X, y, momentum=0.9):\n",
    "        \"\"\"Update prototypes with new data using adaptive learning and momentum.\"\"\"\n",
    "        if len(X.shape) > 2:\n",
    "            X = X.reshape(X.shape[0], -1)\n",
    "        \n",
    "        for cls in np.unique(y):\n",
    "            if cls in self.class_prototypes:\n",
    "                old_prototype = self.class_prototypes[cls]\n",
    "                new_prototype = X[y == cls].mean(axis=0)\n",
    "                self.class_prototypes[cls] = momentum * old_prototype + (1 - momentum) * new_prototype\n",
    "            else:\n",
    "                self.class_prototypes[cls] = X[y == cls].mean(axis=0)\n",
    "    \n",
    "    def retrain_with_unlabeled_data(self, X, threshold=0.8):\n",
    "        \"\"\"Adapt model to unlabeled data by generating pseudo-labels based on current prototypes.\"\"\"\n",
    "        if len(X.shape) > 2:\n",
    "            X = X.reshape(X.shape[0], -1)\n",
    "        \n",
    "        distances = cdist(X, np.array(list(self.class_prototypes.values())), metric=self.metric)\n",
    "        predicted_labels = np.argmin(distances, axis=1)\n",
    "        predicted_confidences = np.min(distances, axis=1)\n",
    "        \n",
    "        confident_indices = predicted_confidences < threshold\n",
    "        pseudo_labels = predicted_labels[confident_indices]\n",
    "        X_confident = X[confident_indices]\n",
    "        \n",
    "        self.retrain(X_confident, pseudo_labels)\n",
    "\n",
    "    def score(self, X, y):\n",
    "        \"\"\"Calculate accuracy of the model.\"\"\"\n",
    "        predictions = self.predict(X)\n",
    "        return np.mean(predictions == y)\n"
   ]
  },
  {
   "cell_type": "code",
   "execution_count": 6,
   "metadata": {},
   "outputs": [],
   "source": [
    "f1 = joblib.load('./models/Part-1/f1.joblib')\n",
    "f2 = joblib.load('./models/Part-1/f2.joblib')\n",
    "f3 = joblib.load('./models/Part-1/f3.joblib')\n",
    "f4 = joblib.load('./models/Part-1/f4.joblib')\n",
    "f5 = joblib.load('./models/Part-1/f5.joblib')\n",
    "f6 = joblib.load('./models/Part-1/f6.joblib')\n",
    "f7 = joblib.load('./models/Part-1/f7.joblib')\n",
    "f8 = joblib.load('./models/Part-1/f8.joblib')\n",
    "f9 = joblib.load('./models/Part-1/f9.joblib')\n",
    "f10 = joblib.load('./models/Part-1/f10.joblib')\n"
   ]
  },
  {
   "cell_type": "code",
   "execution_count": 7,
   "metadata": {},
   "outputs": [],
   "source": [
    "f11 = joblib.load('./models/Part-2/f11.joblib')\n",
    "f12 = joblib.load('./models/Part-2/f12.joblib')\n",
    "f13 = joblib.load('./models/Part-2/f13.joblib')\n",
    "f14 = joblib.load('./models/Part-2/f14.joblib')\n",
    "f15 = joblib.load('./models/Part-2/f15.joblib')\n",
    "f16 = joblib.load('./models/Part-2/f16.joblib')\n",
    "f17 = joblib.load('./models/Part-2/f17.joblib') \n",
    "f18 = joblib.load('./models/Part-2/f18.joblib')\n",
    "f19 = joblib.load('./models/Part-2/f19.joblib')\n",
    "f20 = joblib.load('./models/Part-2/f20.joblib')\n"
   ]
  },
  {
   "cell_type": "markdown",
   "metadata": {},
   "source": [
    "# Testing accuracies"
   ]
  },
  {
   "cell_type": "code",
   "execution_count": null,
   "metadata": {},
   "outputs": [],
   "source": [
    "models = [f1, f2, f3, f4, f5, f6, f7, f8, f9, f10, f11, f12, f13, f14, f15, f16, f17, f18, f19, f20]"
   ]
  },
  {
   "cell_type": "code",
   "execution_count": 16,
   "metadata": {},
   "outputs": [
    {
     "name": "stdout",
     "output_type": "stream",
     "text": [
      "Task 1\n",
      "[0.8716]\n",
      "[0.8712, 0.872]\n",
      "[0.8688, 0.87, 0.862]\n",
      "[0.8692, 0.8676, 0.8596, 0.868]\n",
      "[0.8664, 0.8636, 0.8592, 0.8684, 0.8652]\n",
      "[0.8648, 0.8624, 0.8592, 0.8668, 0.8648, 0.8664]\n",
      "[0.8644, 0.8616, 0.8572, 0.866, 0.864, 0.864, 0.8564]\n",
      "[0.864, 0.8604, 0.856, 0.8648, 0.8632, 0.8632, 0.8564, 0.8608]\n",
      "[0.8628, 0.8592, 0.856, 0.8632, 0.864, 0.8612, 0.856, 0.86, 0.8488]\n",
      "[0.8604, 0.8588, 0.8564, 0.8624, 0.8632, 0.8604, 0.8544, 0.86, 0.8464, 0.8568]\n"
     ]
    }
   ],
   "source": [
    "accuracies_part1 = [[] for _ in range(10)]\n",
    "\n",
    "for i in range(1, 10+1):\n",
    "    for j in range(1, i+1):\n",
    "        model_id = i-1\n",
    "        data_id = j-1\n",
    "        score = models[model_id].score(eval_data[data_id], eval_labels[data_id])\n",
    "        accuracies_part1[model_id].append(score)\n",
    "\n",
    "print(\"Task 1\")\n",
    "for i in range(10):\n",
    "    print(accuracies_part1[i])"
   ]
  },
  {
   "cell_type": "code",
   "execution_count": 19,
   "metadata": {},
   "outputs": [
    {
     "name": "stdout",
     "output_type": "stream",
     "text": [
      "Task 2\n",
      "[0.858, 0.8544, 0.85, 0.8564, 0.8604, 0.8572, 0.8508, 0.8576, 0.838, 0.8544, 0.7028]\n",
      "[0.8548, 0.852, 0.8448, 0.8524, 0.8536, 0.852, 0.8456, 0.8536, 0.838, 0.8512, 0.7004, 0.5244]\n",
      "[0.8508, 0.8484, 0.8432, 0.8484, 0.8524, 0.8468, 0.8416, 0.85, 0.8344, 0.8472, 0.6972, 0.5256, 0.7376]\n",
      "[0.8476, 0.846, 0.8408, 0.8468, 0.8532, 0.8464, 0.84, 0.8484, 0.8324, 0.8452, 0.6932, 0.5204, 0.736, 0.806]\n",
      "[0.8476, 0.8456, 0.8412, 0.8476, 0.8532, 0.8456, 0.8388, 0.848, 0.8316, 0.8452, 0.692, 0.5188, 0.7324, 0.8044, 0.832]\n",
      "[0.8412, 0.8436, 0.8388, 0.8464, 0.8524, 0.8436, 0.8388, 0.8464, 0.8296, 0.842, 0.688, 0.5192, 0.7336, 0.7992, 0.8316, 0.7144]\n",
      "[0.8424, 0.8408, 0.8368, 0.8452, 0.8496, 0.842, 0.8372, 0.8456, 0.8268, 0.838, 0.6908, 0.5152, 0.7352, 0.798, 0.8284, 0.7128, 0.776]\n",
      "[0.8388, 0.8396, 0.8312, 0.8392, 0.8452, 0.8392, 0.8316, 0.8404, 0.8244, 0.8364, 0.6848, 0.5148, 0.7324, 0.7968, 0.8232, 0.7096, 0.772, 0.7072]\n",
      "[0.8276, 0.8316, 0.8292, 0.8324, 0.8412, 0.832, 0.824, 0.8336, 0.8204, 0.8316, 0.6804, 0.5032, 0.7276, 0.7924, 0.82, 0.7032, 0.7648, 0.704, 0.5532]\n",
      "[0.828, 0.8304, 0.8292, 0.8324, 0.8424, 0.832, 0.8236, 0.8316, 0.8204, 0.834, 0.6792, 0.5012, 0.7272, 0.7936, 0.8192, 0.7012, 0.7632, 0.7008, 0.5508, 0.8024]\n"
     ]
    }
   ],
   "source": [
    "accuracies_part2 = [[] for _ in range(10)]\n",
    "for i in range(1, 10+1):\n",
    "    for j in range(1, 10+i+1):\n",
    "        model_id = i-1+10\n",
    "        data_id = j-1\n",
    "        score = models[model_id].score(eval_data[data_id], eval_labels[data_id])\n",
    "        accuracies_part2[model_id-10].append(score)\n",
    "\n",
    "print(\"Task 2\")\n",
    "for i in range(10):\n",
    "    print(accuracies_part2[i])"
   ]
  },
  {
   "cell_type": "code",
   "execution_count": null,
   "metadata": {},
   "outputs": [],
   "source": []
  },
  {
   "cell_type": "code",
   "execution_count": null,
   "metadata": {},
   "outputs": [],
   "source": []
  },
  {
   "cell_type": "code",
   "execution_count": null,
   "metadata": {},
   "outputs": [],
   "source": []
  },
  {
   "cell_type": "code",
   "execution_count": null,
   "metadata": {},
   "outputs": [],
   "source": []
  }
 ],
 "metadata": {
  "kernelspec": {
   "display_name": "ml",
   "language": "python",
   "name": "python3"
  },
  "language_info": {
   "codemirror_mode": {
    "name": "ipython",
    "version": 3
   },
   "file_extension": ".py",
   "mimetype": "text/x-python",
   "name": "python",
   "nbconvert_exporter": "python",
   "pygments_lexer": "ipython3",
   "version": "3.10.15"
  }
 },
 "nbformat": 4,
 "nbformat_minor": 2
}
