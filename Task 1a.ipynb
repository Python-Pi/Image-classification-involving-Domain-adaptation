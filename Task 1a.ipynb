{
 "cells": [
  {
   "cell_type": "code",
   "execution_count": null,
   "metadata": {},
   "outputs": [
    {
     "name": "stderr",
     "output_type": "stream",
     "text": [
      "/opt/homebrew/Caskroom/miniforge/base/envs/ml/lib/python3.10/site-packages/tqdm/auto.py:21: TqdmWarning: IProgress not found. Please update jupyter and ipywidgets. See https://ipywidgets.readthedocs.io/en/stable/user_install.html\n",
      "  from .autonotebook import tqdm as notebook_tqdm\n"
     ]
    }
   ],
   "source": [
    "import numpy as np\n",
    "import copy\n",
    "import joblib\n",
    "import torch\n",
    "from tensorflow.keras.applications import ResNet152\n",
    "from keras.applications.resnet50 import preprocess_input\n",
    "from tensorflow.keras.preprocessing import image\n",
    "from scipy.spatial.distance import cdist\n"
   ]
  },
  {
   "cell_type": "code",
   "execution_count": null,
   "metadata": {},
   "outputs": [
    {
     "name": "stderr",
     "output_type": "stream",
     "text": [
      "/var/folders/15/rhh2dgys0n75gk26z6nrx13c0000gn/T/ipykernel_1124/3155242173.py:9: FutureWarning: You are using `torch.load` with `weights_only=False` (the current default value), which uses the default pickle module implicitly. It is possible to construct malicious pickle data which will execute arbitrary code during unpickling (See https://github.com/pytorch/pytorch/blob/main/SECURITY.md#untrusted-models for more details). In a future release, the default value for `weights_only` will be flipped to `True`. This limits the functions that could be executed during unpickling. Arbitrary objects will no longer be allowed to be loaded via this mode unless they are explicitly allowlisted by the user via `torch.serialization.add_safe_globals`. We recommend you start setting `weights_only=True` for any use case where you don't have full control of the loaded file. Please open an issue on GitHub for any issues related to this experimental feature.\n",
      "  t = torch.load('../dataset/part_one_dataset/train_data/' + str(i+1) + '_train_data.tar.pth')\n",
      "/var/folders/15/rhh2dgys0n75gk26z6nrx13c0000gn/T/ipykernel_1124/3155242173.py:15: FutureWarning: You are using `torch.load` with `weights_only=False` (the current default value), which uses the default pickle module implicitly. It is possible to construct malicious pickle data which will execute arbitrary code during unpickling (See https://github.com/pytorch/pytorch/blob/main/SECURITY.md#untrusted-models for more details). In a future release, the default value for `weights_only` will be flipped to `True`. This limits the functions that could be executed during unpickling. Arbitrary objects will no longer be allowed to be loaded via this mode unless they are explicitly allowlisted by the user via `torch.serialization.add_safe_globals`. We recommend you start setting `weights_only=True` for any use case where you don't have full control of the loaded file. Please open an issue on GitHub for any issues related to this experimental feature.\n",
      "  t = torch.load('../dataset/part_one_dataset/eval_data/' + str(i+1) + '_eval_data.tar.pth')\n"
     ]
    }
   ],
   "source": [
    "train_data = []\n",
    "train_labels = []\n",
    "eval_data = []\n",
    "eval_labels = []\n",
    "\n",
    "predicted_labels = {}\n",
    "\n",
    "for i in range(10):\n",
    "  t = torch.load('./dataset/part_one_dataset/train_data/' + str(i+1) + '_train_data.tar.pth')\n",
    "  train_data.append(t['data'])\n",
    "  if i == 0:\n",
    "    train_labels.append(t['targets'])\n",
    "\n",
    "for i in range(10):\n",
    "  t = torch.load('./dataset/part_one_dataset/eval_data/' + str(i+1) + '_eval_data.tar.pth')\n",
    "  eval_data.append(t['data'])\n",
    "  eval_labels.append(t['targets'])"
   ]
  },
  {
   "cell_type": "code",
   "execution_count": 5,
   "metadata": {},
   "outputs": [
    {
     "name": "stderr",
     "output_type": "stream",
     "text": [
      "2024-11-26 16:09:10.751699: I tensorflow/core/grappler/optimizers/custom_graph_optimizer_registry.cc:117] Plugin optimizer for device_type GPU is enabled.\n"
     ]
    },
    {
     "name": "stdout",
     "output_type": "stream",
     "text": [
      "\u001b[1m79/79\u001b[0m \u001b[32m━━━━━━━━━━━━━━━━━━━━\u001b[0m\u001b[37m\u001b[0m \u001b[1m42s\u001b[0m 457ms/step\n",
      "\u001b[1m79/79\u001b[0m \u001b[32m━━━━━━━━━━━━━━━━━━━━\u001b[0m\u001b[37m\u001b[0m \u001b[1m28s\u001b[0m 355ms/step\n",
      "\u001b[1m79/79\u001b[0m \u001b[32m━━━━━━━━━━━━━━━━━━━━\u001b[0m\u001b[37m\u001b[0m \u001b[1m28s\u001b[0m 352ms/step\n",
      "\u001b[1m79/79\u001b[0m \u001b[32m━━━━━━━━━━━━━━━━━━━━\u001b[0m\u001b[37m\u001b[0m \u001b[1m28s\u001b[0m 353ms/step\n",
      "\u001b[1m79/79\u001b[0m \u001b[32m━━━━━━━━━━━━━━━━━━━━\u001b[0m\u001b[37m\u001b[0m \u001b[1m29s\u001b[0m 359ms/step\n",
      "\u001b[1m79/79\u001b[0m \u001b[32m━━━━━━━━━━━━━━━━━━━━\u001b[0m\u001b[37m\u001b[0m \u001b[1m29s\u001b[0m 357ms/step\n",
      "\u001b[1m79/79\u001b[0m \u001b[32m━━━━━━━━━━━━━━━━━━━━\u001b[0m\u001b[37m\u001b[0m \u001b[1m29s\u001b[0m 362ms/step\n",
      "\u001b[1m79/79\u001b[0m \u001b[32m━━━━━━━━━━━━━━━━━━━━\u001b[0m\u001b[37m\u001b[0m \u001b[1m29s\u001b[0m 357ms/step\n",
      "\u001b[1m79/79\u001b[0m \u001b[32m━━━━━━━━━━━━━━━━━━━━\u001b[0m\u001b[37m\u001b[0m \u001b[1m29s\u001b[0m 362ms/step\n",
      "\u001b[1m79/79\u001b[0m \u001b[32m━━━━━━━━━━━━━━━━━━━━\u001b[0m\u001b[37m\u001b[0m \u001b[1m28s\u001b[0m 358ms/step\n",
      "\u001b[1m79/79\u001b[0m \u001b[32m━━━━━━━━━━━━━━━━━━━━\u001b[0m\u001b[37m\u001b[0m \u001b[1m29s\u001b[0m 359ms/step\n",
      "\u001b[1m79/79\u001b[0m \u001b[32m━━━━━━━━━━━━━━━━━━━━\u001b[0m\u001b[37m\u001b[0m \u001b[1m28s\u001b[0m 354ms/step\n",
      "\u001b[1m79/79\u001b[0m \u001b[32m━━━━━━━━━━━━━━━━━━━━\u001b[0m\u001b[37m\u001b[0m \u001b[1m29s\u001b[0m 358ms/step\n",
      "\u001b[1m79/79\u001b[0m \u001b[32m━━━━━━━━━━━━━━━━━━━━\u001b[0m\u001b[37m\u001b[0m \u001b[1m29s\u001b[0m 356ms/step\n",
      "\u001b[1m79/79\u001b[0m \u001b[32m━━━━━━━━━━━━━━━━━━━━\u001b[0m\u001b[37m\u001b[0m \u001b[1m29s\u001b[0m 361ms/step\n",
      "\u001b[1m79/79\u001b[0m \u001b[32m━━━━━━━━━━━━━━━━━━━━\u001b[0m\u001b[37m\u001b[0m \u001b[1m29s\u001b[0m 362ms/step\n",
      "\u001b[1m79/79\u001b[0m \u001b[32m━━━━━━━━━━━━━━━━━━━━\u001b[0m\u001b[37m\u001b[0m \u001b[1m29s\u001b[0m 364ms/step\n",
      "\u001b[1m79/79\u001b[0m \u001b[32m━━━━━━━━━━━━━━━━━━━━\u001b[0m\u001b[37m\u001b[0m \u001b[1m29s\u001b[0m 358ms/step\n",
      "\u001b[1m79/79\u001b[0m \u001b[32m━━━━━━━━━━━━━━━━━━━━\u001b[0m\u001b[37m\u001b[0m \u001b[1m28s\u001b[0m 353ms/step\n",
      "\u001b[1m79/79\u001b[0m \u001b[32m━━━━━━━━━━━━━━━━━━━━\u001b[0m\u001b[37m\u001b[0m \u001b[1m29s\u001b[0m 357ms/step\n"
     ]
    }
   ],
   "source": [
    "train_data_extracted = []\n",
    "eval_data_extracted = []\n",
    "model = ResNet152(weights='imagenet', include_top=False, pooling='avg')\n",
    "\n",
    "def process_and_extract_features(data, model):\n",
    "    extracted_features = []\n",
    "    for X in data:\n",
    "        X_resized = np.array([image.img_to_array(image.array_to_img(img, scale=False).resize((224, 224))) for img in X])\n",
    "        X_preprocessed = preprocess_input(X_resized)\n",
    "        features = model.predict(X_preprocessed, batch_size=32)\n",
    "        extracted_features.append(features)\n",
    "    return extracted_features\n",
    "\n",
    "\n",
    "train_data_extracted = process_and_extract_features(train_data, model)\n",
    "eval_data_extracted = process_and_extract_features(eval_data, model)\n"
   ]
  },
  {
   "cell_type": "code",
   "execution_count": 7,
   "metadata": {},
   "outputs": [
    {
     "name": "stdout",
     "output_type": "stream",
     "text": [
      "Train data shape: (2500, 32, 32, 3)\n",
      "Extracted features shape: (2500, 2048)\n"
     ]
    }
   ],
   "source": [
    "print(f\"Train data shape: {train_data[0].shape}\")\n",
    "print(f\"Extracted features shape: {train_data_extracted[0].shape}\")"
   ]
  },
  {
   "cell_type": "code",
   "execution_count": 10,
   "metadata": {},
   "outputs": [],
   "source": [
    "# Save the arrays\n",
    "np.save('./features/Part-1/train_data_extracted.npy', train_data_extracted)\n",
    "np.save('./features/Part-1/eval_data_extracted.npy', eval_data_extracted)"
   ]
  },
  {
   "cell_type": "markdown",
   "metadata": {},
   "source": [
    "## Run from here if features already extracted"
   ]
  },
  {
   "cell_type": "code",
   "execution_count": 30,
   "metadata": {},
   "outputs": [
    {
     "name": "stdout",
     "output_type": "stream",
     "text": [
      "Length of Datastructure: 10\n",
      "Extracted features shape: (2500, 2048)\n"
     ]
    }
   ],
   "source": [
    "train_data_extracted = np.load('./features/Part-1/train_data_extracted.npy', allow_pickle=True)\n",
    "eval_data_extracted = np.load('./features/Part-1/eval_data_extracted.npy', allow_pickle=True)\n",
    "\n",
    "print(f\"Length of Datastructure: {len(train_data_extracted)}\")\n",
    "print(f\"Extracted features shape: {train_data_extracted[0].shape}\")"
   ]
  },
  {
   "cell_type": "code",
   "execution_count": 31,
   "metadata": {},
   "outputs": [],
   "source": [
    "class LwPClassifier:\n",
    "    def __init__(self, metric='euclidean'):\n",
    "        self.metric = metric\n",
    "        self.class_prototypes = {}\n",
    "\n",
    "    def fit(self, X, y, weights=None, alpha=0.01):\n",
    "        \"\"\"Compute prototypes (mean vectors) for each class, with optional weighting and regularization.\"\"\"\n",
    "        X = X.reshape(X.shape[0], -1)\n",
    "        \n",
    "        self.classes_ = np.unique(y)\n",
    "        if weights is None:\n",
    "            weights = np.ones_like(y, dtype=float)\n",
    "\n",
    "        self.class_prototypes = {\n",
    "            cls: np.average(X[y == cls], axis=0, weights=weights[y == cls]) - alpha * np.mean(X, axis=0) \n",
    "            for cls in self.classes_\n",
    "        }\n",
    "\n",
    "    def predict(self, X):\n",
    "        \"\"\"Predict class for each sample in X.\"\"\"\n",
    "        X = X.reshape(X.shape[0], -1)\n",
    "        prototypes = np.array([self.class_prototypes[cls] for cls in self.classes_])\n",
    "        distances = cdist(X, prototypes, metric=self.metric)\n",
    "        closest_prototype_idx = distances.argmin(axis=1)\n",
    "        return self.classes_[closest_prototype_idx]\n",
    "\n",
    "    def retrain(self, X, y, momentum=0.9):\n",
    "        \"\"\"Update prototypes with new data using adaptive learning and momentum.\"\"\"\n",
    "        X = X.reshape(X.shape[0], -1)\n",
    "        \n",
    "        for cls in np.unique(y):\n",
    "            if cls in self.class_prototypes:\n",
    "                old_prototype = self.class_prototypes[cls]\n",
    "                new_prototype = X[y == cls].mean(axis=0)\n",
    "                self.class_prototypes[cls] = momentum * old_prototype + (1 - momentum) * new_prototype\n",
    "            else:\n",
    "                self.class_prototypes[cls] = X[y == cls].mean(axis=0)\n",
    "\n",
    "    def score(self, X, y):\n",
    "        \"\"\"Calculate accuracy of the model.\"\"\"\n",
    "        predictions = self.predict(X)\n",
    "        return np.mean(predictions == y)\n"
   ]
  },
  {
   "cell_type": "code",
   "execution_count": 32,
   "metadata": {},
   "outputs": [],
   "source": [
    "X_train = train_data_extracted\n",
    "y_train = train_labels\n",
    "X_test = eval_data_extracted"
   ]
  },
  {
   "cell_type": "code",
   "execution_count": 33,
   "metadata": {},
   "outputs": [
    {
     "name": "stdout",
     "output_type": "stream",
     "text": [
      "[6 7 9 ... 8 3 0]\n"
     ]
    }
   ],
   "source": [
    "f1 = LwPClassifier()\n",
    "f1.fit(X_train[0], y_train[0])\n",
    "\n",
    "predicted_labels['D2'] = f1.predict(X_train[1])\n",
    "print(predicted_labels['D2'])"
   ]
  },
  {
   "cell_type": "code",
   "execution_count": 34,
   "metadata": {},
   "outputs": [
    {
     "name": "stdout",
     "output_type": "stream",
     "text": [
      "[1 6 6 ... 1 1 7]\n"
     ]
    }
   ],
   "source": [
    "f2 = copy.deepcopy(f1)\n",
    "f2.retrain(X_train[1], predicted_labels['D2'])\n",
    "\n",
    "predicted_labels['D3'] = f2.predict(X_train[2])\n",
    "print(predicted_labels['D3'])"
   ]
  },
  {
   "cell_type": "code",
   "execution_count": 35,
   "metadata": {},
   "outputs": [
    {
     "name": "stdout",
     "output_type": "stream",
     "text": [
      "[0 6 7 ... 3 4 7]\n"
     ]
    }
   ],
   "source": [
    "f3 = copy.deepcopy(f2)\n",
    "f3.retrain(X_train[2], predicted_labels['D3'])\n",
    "\n",
    "predicted_labels['D4'] = f3.predict(X_train[3])\n",
    "print(predicted_labels['D4'])"
   ]
  },
  {
   "cell_type": "code",
   "execution_count": 36,
   "metadata": {},
   "outputs": [
    {
     "name": "stdout",
     "output_type": "stream",
     "text": [
      "[3 5 0 ... 9 7 1]\n"
     ]
    }
   ],
   "source": [
    "f4 = copy.deepcopy(f3)\n",
    "f4.retrain(X_train[3], predicted_labels['D4'])\n",
    "\n",
    "predicted_labels['D5'] = f4.predict(X_train[4])\n",
    "print(predicted_labels['D5'])"
   ]
  },
  {
   "cell_type": "code",
   "execution_count": 37,
   "metadata": {},
   "outputs": [
    {
     "name": "stdout",
     "output_type": "stream",
     "text": [
      "[2 9 8 ... 0 2 2]\n"
     ]
    }
   ],
   "source": [
    "f5 = copy.deepcopy(f4)\n",
    "f5.retrain(X_train[4], predicted_labels['D5'])\n",
    "\n",
    "predicted_labels['D6'] = f5.predict(X_train[5])\n",
    "print(predicted_labels['D6'])"
   ]
  },
  {
   "cell_type": "code",
   "execution_count": 38,
   "metadata": {},
   "outputs": [
    {
     "name": "stdout",
     "output_type": "stream",
     "text": [
      "[8 6 0 ... 6 7 7]\n"
     ]
    }
   ],
   "source": [
    "f6 = copy.deepcopy(f5)\n",
    "f6.retrain(X_train[5], predicted_labels['D6'])\n",
    "\n",
    "predicted_labels['D7'] = f6.predict(X_train[6])\n",
    "print(predicted_labels['D7'])"
   ]
  },
  {
   "cell_type": "code",
   "execution_count": 39,
   "metadata": {},
   "outputs": [
    {
     "name": "stdout",
     "output_type": "stream",
     "text": [
      "[3 6 7 ... 7 5 9]\n"
     ]
    }
   ],
   "source": [
    "f7 = copy.deepcopy(f6)\n",
    "f7.retrain(X_train[6], predicted_labels['D7'])\n",
    "\n",
    "predicted_labels['D8'] = f7.predict(X_train[7])\n",
    "print(predicted_labels['D8'])"
   ]
  },
  {
   "cell_type": "code",
   "execution_count": 40,
   "metadata": {},
   "outputs": [
    {
     "name": "stdout",
     "output_type": "stream",
     "text": [
      "[1 8 5 ... 8 1 8]\n"
     ]
    }
   ],
   "source": [
    "f8 = copy.deepcopy(f7)\n",
    "f8.retrain(X_train[7], predicted_labels['D8'])\n",
    "\n",
    "predicted_labels['D9'] = f8.predict(X_train[8])\n",
    "print(predicted_labels['D9'])"
   ]
  },
  {
   "cell_type": "code",
   "execution_count": 41,
   "metadata": {},
   "outputs": [
    {
     "name": "stdout",
     "output_type": "stream",
     "text": [
      "[7 1 4 ... 6 2 6]\n"
     ]
    }
   ],
   "source": [
    "f9 = copy.deepcopy(f8)\n",
    "f9.retrain(X_train[8], predicted_labels['D9'])\n",
    "\n",
    "predicted_labels['D10'] = f9.predict(X_train[9])\n",
    "print(predicted_labels['D10'])"
   ]
  },
  {
   "cell_type": "code",
   "execution_count": 42,
   "metadata": {},
   "outputs": [],
   "source": [
    "f10 = copy.deepcopy(f9)\n",
    "f10.retrain(X_train[9], predicted_labels['D10'])"
   ]
  },
  {
   "cell_type": "markdown",
   "metadata": {},
   "source": [
    "## Evalutation"
   ]
  },
  {
   "cell_type": "code",
   "execution_count": null,
   "metadata": {},
   "outputs": [],
   "source": [
    "models = [f1, f2, f3, f4, f5, f6, f7, f8, f9, f10]\n",
    "outputs_pasrtial = [[] for _ in range(10)]\n"
   ]
  },
  {
   "cell_type": "code",
   "execution_count": 44,
   "metadata": {},
   "outputs": [],
   "source": [
    "accuracies_partial = [[] for _ in range(10)]\n",
    "\n",
    "for i in range(1, 10+1):\n",
    "    for j in range(1, i+1):\n",
    "        model_id = i-1\n",
    "        data_id = j-1\n",
    "        score = models[model_id].score(eval_data_extracted[data_id], eval_labels[data_id])\n",
    "        accuracies_partial[model_id].append(score)"
   ]
  },
  {
   "cell_type": "code",
   "execution_count": 45,
   "metadata": {},
   "outputs": [
    {
     "name": "stdout",
     "output_type": "stream",
     "text": [
      "[0.8716]\n",
      "[0.8712, 0.872]\n",
      "[0.8688, 0.87, 0.862]\n",
      "[0.8692, 0.8676, 0.8596, 0.868]\n",
      "[0.8664, 0.8636, 0.8592, 0.8684, 0.8652]\n",
      "[0.8648, 0.8624, 0.8592, 0.8668, 0.8648, 0.8664]\n",
      "[0.8644, 0.8616, 0.8572, 0.866, 0.864, 0.864, 0.8564]\n",
      "[0.864, 0.8604, 0.856, 0.8648, 0.8632, 0.8632, 0.8564, 0.8608]\n",
      "[0.8628, 0.8592, 0.856, 0.8632, 0.864, 0.8612, 0.856, 0.86, 0.8488]\n",
      "[0.8604, 0.8588, 0.8564, 0.8624, 0.8632, 0.8604, 0.8544, 0.86, 0.8464, 0.8568]\n"
     ]
    }
   ],
   "source": [
    "for i in range(10):\n",
    "    print(accuracies_partial[i])"
   ]
  },
  {
   "cell_type": "markdown",
   "metadata": {},
   "source": [
    "## Saving models"
   ]
  },
  {
   "cell_type": "code",
   "execution_count": 29,
   "metadata": {},
   "outputs": [
    {
     "name": "stdout",
     "output_type": "stream",
     "text": [
      "Model 1 saved to ./models/Part-1/f1.joblib\n",
      "Model 2 saved to ./models/Part-1/f2.joblib\n",
      "Model 3 saved to ./models/Part-1/f3.joblib\n",
      "Model 4 saved to ./models/Part-1/f4.joblib\n",
      "Model 5 saved to ./models/Part-1/f5.joblib\n",
      "Model 6 saved to ./models/Part-1/f6.joblib\n",
      "Model 7 saved to ./models/Part-1/f7.joblib\n",
      "Model 8 saved to ./models/Part-1/f8.joblib\n",
      "Model 9 saved to ./models/Part-1/f9.joblib\n",
      "Model 10 saved to ./models/Part-1/f10.joblib\n"
     ]
    }
   ],
   "source": [
    "for i, model in enumerate(models, start=1):\n",
    "    filename = f'./models/Part-1/f{i}.joblib'\n",
    "    joblib.dump(model, filename)\n",
    "    print(f\"Model {i} saved to {filename}\")"
   ]
  }
 ],
 "metadata": {
  "kernelspec": {
   "display_name": "ml",
   "language": "python",
   "name": "python3"
  },
  "language_info": {
   "codemirror_mode": {
    "name": "ipython",
    "version": 3
   },
   "file_extension": ".py",
   "mimetype": "text/x-python",
   "name": "python",
   "nbconvert_exporter": "python",
   "pygments_lexer": "ipython3",
   "version": "3.10.15"
  }
 },
 "nbformat": 4,
 "nbformat_minor": 2
}
